{
 "cells": [
  {
   "cell_type": "code",
   "execution_count": 1,
   "metadata": {},
   "outputs": [
    {
     "name": "stdout",
     "output_type": "stream",
     "text": [
      "E   1990-05-03   16\t\n",
      "A   1992-09-19   9\t\n",
      "A   1990-10-06   10\t\n",
      "E   1994-02-14   10\t\n",
      "E   1999-09-10   11\t\n",
      "A   1992-08-22   16\t\n",
      "A   1993-05-08   17\t\n",
      "A   1988-04-27   121\t\n",
      "B   1995-08-23   1\t\n",
      "B   1991-10-01   9\t\n",
      "B   1999-10-21   13\t\n",
      "B   1997-04-09   14\t\n",
      "B   1995-09-06   15\t\n",
      "A   1990-08-31   12\t\n",
      "A   1997-12-15   13\t\n",
      "A   1994-10-25   14\t\n",
      "B   1993-03-02   16\t\n",
      "B   1999-08-28   17\t\n",
      "E   1998-09-14   2\t\n",
      "E   1995-04-25   3\t\n",
      "E   1993-07-21   4\t\n",
      "E   1985-02-12   17\t\n",
      "E   1990-02-09   18\t\n",
      "E   1993-12-27   19\t\n",
      "E   1991-02-18   141\n",
      "A   1990-07-22   0\t\n",
      "A   1990-09-26   8\t\n",
      "B   1999-06-11   121\t\n",
      "B   1998-11-22   131\t\n",
      "C   1994-01-25   10\t\n",
      "C   1991-02-12   13\t\n",
      "B   1994-08-30   18\t\n",
      "C   1994-09-09   15\t\n",
      "C   1994-07-27   104\t\n",
      "D   1990-10-10   15\t\n",
      "A   1990-09-05   11\t\n",
      "A   1993-01-11   15\t\n",
      "E   1993-01-27   9\t\n",
      "E   1999-12-06   12\t\n",
      "E   1999-01-14   15\t"
     ]
    }
   ],
   "source": [
    "!cat ./data.csv"
   ]
  },
  {
   "cell_type": "code",
   "execution_count": 2,
   "metadata": {},
   "outputs": [
    {
     "name": "stdout",
     "output_type": "stream",
     "text": [
      "Overwriting mapper.py\n"
     ]
    }
   ],
   "source": [
    "%%writefile mapper.py\n",
    "#! /usr/bin/python3\n",
    "\n",
    "##\n",
    "## Esta es la funcion que mapea la entrada a parejas (clave, valor)\n",
    "##\n",
    "import sys\n",
    "if __name__ == \"__main__\":\n",
    "    ##\n",
    "    ## itera sobre cada linea de codigo recibida\n",
    "    ## a traves del flujo de entrada\n",
    "    ##        \n",
    "    for line in sys.stdin:\n",
    "        letra = \"\"\n",
    "        fecha = \"\"\n",
    "        valor = \"\"\n",
    "        cantidad = 0\n",
    "        \n",
    "        line = line.strip()\n",
    "        splits = line.split()\n",
    "        letra = splits[0]\n",
    "        fecha = splits[1]\n",
    "        valor = splits[2]\n",
    "        \n",
    "        sys.stdout.write(\"{}\\t{}\\t{}\\n\".format(letra,fecha,valor))"
   ]
  },
  {
   "cell_type": "code",
   "execution_count": 3,
   "metadata": {},
   "outputs": [],
   "source": [
    "!chmod +x mapper.py"
   ]
  },
  {
   "cell_type": "code",
   "execution_count": 4,
   "metadata": {},
   "outputs": [
    {
     "name": "stdout",
     "output_type": "stream",
     "text": [
      "E\t1990-05-03\t16\n",
      "A\t1992-09-19\t9\n",
      "A\t1990-10-06\t10\n",
      "E\t1994-02-14\t10\n",
      "E\t1999-09-10\t11\n",
      "A\t1992-08-22\t16\n",
      "A\t1993-05-08\t17\n",
      "A\t1988-04-27\t121\n",
      "B\t1995-08-23\t1\n",
      "B\t1991-10-01\t9\n",
      "B\t1999-10-21\t13\n",
      "B\t1997-04-09\t14\n",
      "B\t1995-09-06\t15\n",
      "A\t1990-08-31\t12\n",
      "A\t1997-12-15\t13\n",
      "A\t1994-10-25\t14\n",
      "B\t1993-03-02\t16\n",
      "B\t1999-08-28\t17\n",
      "E\t1998-09-14\t2\n",
      "E\t1995-04-25\t3\n",
      "E\t1993-07-21\t4\n",
      "E\t1985-02-12\t17\n",
      "E\t1990-02-09\t18\n",
      "E\t1993-12-27\t19\n",
      "E\t1991-02-18\t141\n",
      "A\t1990-07-22\t0\n",
      "A\t1990-09-26\t8\n",
      "B\t1999-06-11\t121\n",
      "B\t1998-11-22\t131\n",
      "C\t1994-01-25\t10\n",
      "C\t1991-02-12\t13\n",
      "B\t1994-08-30\t18\n",
      "C\t1994-09-09\t15\n",
      "C\t1994-07-27\t104\n",
      "D\t1990-10-10\t15\n",
      "A\t1990-09-05\t11\n",
      "A\t1993-01-11\t15\n",
      "E\t1993-01-27\t9\n",
      "E\t1999-12-06\t12\n",
      "E\t1999-01-14\t15\n"
     ]
    }
   ],
   "source": [
    "!cat ./data.csv  | ./mapper.py "
   ]
  },
  {
   "cell_type": "code",
   "execution_count": 5,
   "metadata": {},
   "outputs": [
    {
     "name": "stdout",
     "output_type": "stream",
     "text": [
      "Overwriting reducer.py\n"
     ]
    }
   ],
   "source": [
    "%%writefile reducer.py\n",
    "#! /usr/bin/python3\n",
    "\n",
    "import sys\n",
    "\n",
    "##\n",
    "## Esta funcion reduce los elementos que\n",
    "## tienen la misma clave\n",
    "##\n",
    "\n",
    "if __name__ == '__main__':\n",
    "\n",
    "    curkey = None\n",
    "    curkey2 = None\n",
    "    total2 = 0\n",
    "    total = 0\n",
    "\n",
    "    ##\n",
    "    ## cada linea de texto recibida es una\n",
    "    ## entrada clave \\tabulador valor\n",
    "    ##\n",
    "    for line in sys.stdin:\n",
    "\n",
    "        key,key2, val = line.split()\n",
    "        ##val = int(val)\n",
    "\n",
    "        if key == curkey:\n",
    "            ##\n",
    "            ## No se ha cambiado de clave. Aca se\n",
    "            ## acumulan los valores para la misma clave.\n",
    "            ##\n",
    "            total = val\n",
    "            \n",
    "        else:\n",
    "            ##\n",
    "            ## Se cambio de clave. Se reinicia el\n",
    "            ## acumulador.\n",
    "            ##\n",
    "            if curkey is not None:\n",
    "                ##\n",
    "                ## una vez se han reducido todos los elementos\n",
    "                ## con la misma clave se imprime el resultado en\n",
    "                ## el flujo de salida\n",
    "                ##\n",
    "                sys.stdout.write(\"{}\\t{}\\t{}\\n\".format(curkey,curkey2, total2))\n",
    "        if key == curkey2:\n",
    "            ##\n",
    "            ## No se ha cambiado de clave. Aca se\n",
    "            ## acumulan los valores para la misma clave.\n",
    "            ##\n",
    "            total = val\n",
    "            \n",
    "        else:\n",
    "            ##\n",
    "            ## Se cambio de clave. Se reinicia el\n",
    "            ## acumulador.\n",
    "            ##\n",
    "            if curkey2 is not None:\n",
    "                ##\n",
    "                ## una vez se han reducido todos los elementos\n",
    "                ## con la misma clave se imprime el resultado en\n",
    "                ## el flujo de salida\n",
    "                ##\n",
    "                sys.stdout.write(\"{}\\t{}\\t{}\\n\".format(curkey,curkey2, total2))\n",
    "                \n",
    "            curkey = key\n",
    "            total = val\n",
    "        curkey2 = key2\n",
    "        total2 = val\n",
    "\n",
    "    sys.stdout.write(\"{}\\t{}\\t{}\\n\".format(curkey,curkey2, total2))"
   ]
  },
  {
   "cell_type": "code",
   "execution_count": 6,
   "metadata": {},
   "outputs": [],
   "source": [
    "!chmod +x reducer.py"
   ]
  },
  {
   "cell_type": "code",
   "execution_count": 7,
   "metadata": {},
   "outputs": [
    {
     "name": "stdout",
     "output_type": "stream",
     "text": [
      "A\t1988-04-27\t121\n",
      "A\t1990-07-22\t0\n",
      "A\t1990-08-31\t12\n",
      "A\t1990-09-05\t11\n",
      "A\t1990-09-26\t8\n",
      "A\t1990-10-06\t10\n",
      "A\t1992-08-22\t16\n",
      "A\t1992-09-19\t9\n",
      "A\t1993-01-11\t15\n",
      "A\t1993-05-08\t17\n",
      "A\t1994-10-25\t14\n",
      "A\t1997-12-15\t13\n",
      "A\t1997-12-15\t13\n",
      "B\t1991-10-01\t9\n",
      "B\t1993-03-02\t16\n",
      "B\t1994-08-30\t18\n",
      "B\t1995-08-23\t1\n",
      "B\t1995-09-06\t15\n",
      "B\t1997-04-09\t14\n",
      "B\t1998-11-22\t131\n",
      "B\t1999-06-11\t121\n",
      "B\t1999-08-28\t17\n",
      "B\t1999-10-21\t13\n",
      "B\t1999-10-21\t13\n",
      "C\t1991-02-12\t13\n",
      "C\t1994-01-25\t10\n",
      "C\t1994-07-27\t104\n",
      "C\t1994-09-09\t15\n",
      "C\t1994-09-09\t15\n",
      "D\t1990-10-10\t15\n",
      "D\t1990-10-10\t15\n",
      "E\t1985-02-12\t17\n",
      "E\t1990-02-09\t18\n",
      "E\t1990-05-03\t16\n",
      "E\t1991-02-18\t141\n",
      "E\t1993-01-27\t9\n",
      "E\t1993-07-21\t4\n",
      "E\t1993-12-27\t19\n",
      "E\t1994-02-14\t10\n",
      "E\t1995-04-25\t3\n",
      "E\t1998-09-14\t2\n",
      "E\t1999-01-14\t15\n",
      "E\t1999-09-10\t11\n",
      "E\t1999-12-06\t12\n"
     ]
    }
   ],
   "source": [
    "!cat ./data.csv | ./mapper.py  | sort | ./reducer.py"
   ]
  }
 ],
 "metadata": {
  "kernelspec": {
   "display_name": "Python 3",
   "language": "python",
   "name": "python3"
  },
  "language_info": {
   "codemirror_mode": {
    "name": "ipython",
    "version": 3
   },
   "file_extension": ".py",
   "mimetype": "text/x-python",
   "name": "python",
   "nbconvert_exporter": "python",
   "pygments_lexer": "ipython3",
   "version": "3.6.8"
  }
 },
 "nbformat": 4,
 "nbformat_minor": 4
}
