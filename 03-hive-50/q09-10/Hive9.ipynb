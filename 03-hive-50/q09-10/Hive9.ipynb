{
 "cells": [
  {
   "cell_type": "code",
   "execution_count": 1,
   "metadata": {},
   "outputs": [],
   "source": [
    "%load_ext bigdata\n",
    "%timeout 300"
   ]
  },
  {
   "cell_type": "code",
   "execution_count": 2,
   "metadata": {},
   "outputs": [],
   "source": [
    "%hive_start"
   ]
  },
  {
   "cell_type": "code",
   "execution_count": 84,
   "metadata": {},
   "outputs": [
    {
     "name": "stdout",
     "output_type": "stream",
     "text": [
      "DROP TABLE IF EXISTS tbl0;\n",
      "OK\n",
      "Time taken: 0.191 seconds\n",
      "CREATE TABLE tbl0 (\n",
      "    c1 INT,\n",
      "    c2 STRING,\n",
      "    c3 INT,\n",
      "    c4 DATE,\n",
      "    c5 ARRAY<CHAR(1)>, \n",
      "    c6 MAP<STRING, INT>\n",
      ")\n",
      "ROW FORMAT DELIMITED \n",
      "FIELDS TERMINATED BY ','\n",
      "COLLECTION ITEMS TERMINATED BY ':'\n",
      "MAP KEYS TERMINATED BY '#'\n",
      "LINES TERMINATED BY '\\n';\n",
      "OK\n",
      "Time taken: 0.078 seconds\n",
      "LOAD DATA LOCAL INPATH 'tbl0.csv' INTO TABLE tbl0;\n",
      "Loading data to table default.tbl0\n",
      "OK\n",
      "Time taken: 0.933 seconds\n"
     ]
    }
   ],
   "source": [
    "%%hive\n",
    "DROP TABLE IF EXISTS tbl0;\n",
    "CREATE TABLE tbl0 (\n",
    "    c1 INT,\n",
    "    c2 STRING,\n",
    "    c3 INT,\n",
    "    c4 DATE,\n",
    "    c5 ARRAY<CHAR(1)>, \n",
    "    c6 MAP<STRING, INT>\n",
    ")\n",
    "ROW FORMAT DELIMITED \n",
    "FIELDS TERMINATED BY ','\n",
    "COLLECTION ITEMS TERMINATED BY ':'\n",
    "MAP KEYS TERMINATED BY '#'\n",
    "LINES TERMINATED BY '\\n';\n",
    "LOAD DATA LOCAL INPATH 'tbl0.csv' INTO TABLE tbl0;"
   ]
  },
  {
   "cell_type": "code",
   "execution_count": 85,
   "metadata": {},
   "outputs": [
    {
     "name": "stdout",
     "output_type": "stream",
     "text": [
      "DROP TABLE IF EXISTS tbl1;\n",
      "OK\n",
      "Time taken: 0.14 seconds\n",
      "CREATE TABLE tbl1 (\n",
      "    c1 INT,\n",
      "    c2 INT,\n",
      "    c3 STRING,\n",
      "    c4 MAP<STRING, INT>\n",
      ")\n",
      "ROW FORMAT DELIMITED \n",
      "FIELDS TERMINATED BY ','\n",
      "COLLECTION ITEMS TERMINATED BY ':'\n",
      "MAP KEYS TERMINATED BY '#'\n",
      "LINES TERMINATED BY '\\n';\n",
      "OK\n",
      "Time taken: 0.088 seconds\n",
      "LOAD DATA LOCAL INPATH 'tbl1.csv' INTO TABLE tbl1;\n",
      "Loading data to table default.tbl1\n",
      "OK\n",
      "Time taken: 1.282 seconds\n"
     ]
    }
   ],
   "source": [
    "%%hive\n",
    "DROP TABLE IF EXISTS tbl1;\n",
    "CREATE TABLE tbl1 (\n",
    "    c1 INT,\n",
    "    c2 INT,\n",
    "    c3 STRING,\n",
    "    c4 MAP<STRING, INT>\n",
    ")\n",
    "ROW FORMAT DELIMITED \n",
    "FIELDS TERMINATED BY ','\n",
    "COLLECTION ITEMS TERMINATED BY ':'\n",
    "MAP KEYS TERMINATED BY '#'\n",
    "LINES TERMINATED BY '\\n';\n",
    "LOAD DATA LOCAL INPATH 'tbl1.csv' INTO TABLE tbl1;"
   ]
  },
  {
   "cell_type": "code",
   "execution_count": 86,
   "metadata": {},
   "outputs": [
    {
     "name": "stdout",
     "output_type": "stream",
     "text": [
      "LOAD DATA LOCAL INPATH \"tbl0.csv\" OVERWRITE INTO TABLE tbl0;\n",
      "Loading data to table default.tbl0\n",
      "OK\n",
      "Time taken: 0.724 seconds\n",
      "SELECT * FROM tbl0 LIMIT 5;\n",
      "OK\n",
      "1\tD\t4\t2016-06-25\t[\"a\",\"e\",\"c\",\"d\"]\t{\"bb\":10,\"dd\":20,\"cc\":40}\n",
      "2\tC\t4\t2015-05-14\t[\"a\",\"c\"]\t{\"dd\":40,\"bb\":20,\"cc\":10}\n",
      "3\tD\t6\t2014-12-26\t[\"b\",\"d\"]\t{\"aa\":10,\"bb\":40}\n",
      "4\tD\t5\t2016-06-25\t[\"a\",\"c\",\"e\",\"b\",\"d\"]\t{\"bb\":40,\"dd\":20,\"aa\":10,\"cc\":30}\n",
      "5\tC\t7\t2016-05-23\t[\"d\",\"e\",\"c\"]\t{\"cc\":10,\"aa\":20}\n",
      "Time taken: 0.121 seconds, Fetched: 5 row(s)\n"
     ]
    }
   ],
   "source": [
    "%%hive\n",
    "LOAD DATA LOCAL INPATH \"tbl0.csv\" OVERWRITE INTO TABLE tbl0;\n",
    "SELECT * FROM tbl0 LIMIT 5;"
   ]
  },
  {
   "cell_type": "code",
   "execution_count": 87,
   "metadata": {},
   "outputs": [
    {
     "name": "stdout",
     "output_type": "stream",
     "text": [
      "LOAD DATA LOCAL INPATH \"tbl1.csv\" OVERWRITE INTO TABLE tbl1;\n",
      "Loading data to table default.tbl1\n",
      "OK\n",
      "Time taken: 0.727 seconds\n",
      "SELECT * FROM tbl1 LIMIT 5;\n",
      "OK\n",
      "1\t7\tbb\t{\"A\":0,\"B\":4,\"C\":1,\"D\":3,\"E\":5}\n",
      "2\t13\tCc\t{\"A\":4,\"B\":1,\"C\":0,\"D\":5,\"E\":2}\n",
      "3\t11\tdD\t{\"A\":5,\"B\":4,\"C\":3,\"D\":1,\"E\":0}\n",
      "4\t3\tBB\t{\"A\":2,\"B\":4,\"C\":3,\"D\":5,\"E\":1}\n",
      "5\t14\tcc\t{\"A\":4,\"B\":0,\"C\":2,\"D\":5,\"E\":3}\n",
      "Time taken: 0.14 seconds, Fetched: 5 row(s)\n"
     ]
    }
   ],
   "source": [
    "%%hive\n",
    "LOAD DATA LOCAL INPATH \"tbl1.csv\" OVERWRITE INTO TABLE tbl1;\n",
    "SELECT * FROM tbl1 LIMIT 5;"
   ]
  },
  {
   "cell_type": "code",
   "execution_count": 60,
   "metadata": {},
   "outputs": [
    {
     "name": "stdout",
     "output_type": "stream",
     "text": [
      "SHOW TABLES;\n",
      "OK\n",
      "docs\n",
      "docs2\n",
      "tbl0\n",
      "tbl1\n",
      "tblo\n",
      "Time taken: 0.02 seconds, Fetched: 5 row(s)\n"
     ]
    }
   ],
   "source": [
    "%%hive\n",
    "SHOW TABLES;"
   ]
  },
  {
   "cell_type": "code",
   "execution_count": 61,
   "metadata": {},
   "outputs": [
    {
     "name": "stdout",
     "output_type": "stream",
     "text": [
      "DESCRIBE tbl0;\n",
      "OK\n",
      "c1                  \tint                 \t                    \n",
      "c2                  \tstring              \t                    \n",
      "c3                  \tint                 \t                    \n",
      "c4                  \tdate                \t                    \n",
      "c5                  \tstring              \t                    \n",
      "c6                  \tstring              \t                    \n",
      "Time taken: 0.033 seconds, Fetched: 6 row(s)\n"
     ]
    }
   ],
   "source": [
    "%%hive\n",
    "DESCRIBE tbl0;"
   ]
  },
  {
   "cell_type": "code",
   "execution_count": 62,
   "metadata": {},
   "outputs": [
    {
     "name": "stdout",
     "output_type": "stream",
     "text": [
      "DESCRIBE tbl1;\n",
      "OK\n",
      "c1                  \tint                 \t                    \n",
      "c2                  \tint                 \t                    \n",
      "c3                  \tstring              \t                    \n",
      "c4                  \tstring              \t                    \n",
      "Time taken: 0.035 seconds, Fetched: 4 row(s)\n"
     ]
    }
   ],
   "source": [
    "%%hive\n",
    "DESCRIBE tbl1;"
   ]
  },
  {
   "cell_type": "code",
   "execution_count": 88,
   "metadata": {},
   "outputs": [
    {
     "name": "stdout",
     "output_type": "stream",
     "text": [
      ".c1 = tb1.c1);SE '' END) END) END) END) END) FROM tbl0 tb0 JOIN tbl1 tb1 ON (tb0 \n",
      "WARNING: Hive-on-MR is deprecated in Hive 2 and may not be available in the future versions. Consider using a different execution engine (i.e. spark, tez) or using Hive 1.X releases.\n",
      "Query ID = root_20200129033857_f668e1da-c603-4d9a-8e35-2cab11425bd1\n",
      "Total jobs = 1\n",
      "SLF4J: Class path contains multiple SLF4J bindings.\n",
      "SLF4J: Found binding in [jar:file:/usr/local/hive/lib/log4j-slf4j-impl-2.6.2.jar!/org/slf4j/impl/StaticLoggerBinder.class]\n",
      "SLF4J: Found binding in [jar:file:/usr/local/hadoop/share/hadoop/common/lib/slf4j-log4j12-1.7.10.jar!/org/slf4j/impl/StaticLoggerBinder.class]\n",
      "SLF4J: See http://www.slf4j.org/codes.html#multiple_bindings for an explanation.\n",
      "SLF4J: Actual binding is of type [org.apache.logging.slf4j.Log4jLoggerFactory]\n",
      "2020-01-29 03:39:07\tStarting to launch local task to process map join;\tmaximum memory = 477626368\n",
      "2020-01-29 03:39:10\tDump the side-table for tag: 1 with group count: 10 into file: file:/tmp/root/6dc1d2c5-4640-4062-8ab9-6a426f29c676/hive_2020-01-29_03-38-57_068_8334118633940856024-1/-local-10004/HashTable-Stage-3/MapJoin-mapfile31--.hashtable\n",
      "2020-01-29 03:39:10\tUploaded 1 File to: file:/tmp/root/6dc1d2c5-4640-4062-8ab9-6a426f29c676/hive_2020-01-29_03-38-57_068_8334118633940856024-1/-local-10004/HashTable-Stage-3/MapJoin-mapfile31--.hashtable (673 bytes)\n",
      "2020-01-29 03:39:10\tEnd of local task; Time Taken: 3.124 sec.\n",
      "Execution completed successfully\n",
      "MapredLocal task succeeded\n",
      "Launching Job 1 out of 1\n",
      "Number of reduce tasks is set to 0 since there's no reduce operator\n",
      "Starting Job = job_1580261647948_0004, Tracking URL = http://7639fb76b53c:8088/proxy/application_1580261647948_0004/\n",
      "Kill Command = /usr/local/hadoop/bin/hadoop job  -kill job_1580261647948_0004\n",
      "Hadoop job information for Stage-3: number of mappers: 1; number of reducers: 0\n",
      "2020-01-29 03:39:23,328 Stage-3 map = 0%,  reduce = 0%\n",
      "2020-01-29 03:39:31,757 Stage-3 map = 100%,  reduce = 0%, Cumulative CPU 6.32 sec\n",
      "MapReduce Total cumulative CPU time: 6 seconds 320 msec\n",
      "Ended Job = job_1580261647948_0004\n",
      "MapReduce Jobs Launched: \n",
      "Stage-Stage-3: Map: 1   Cumulative CPU: 6.32 sec   HDFS Read: 8005 HDFS Write: 268 SUCCESS\n",
      "Total MapReduce CPU Time Spent: 6 seconds 320 msec\n",
      "OK\n",
      "1\tD\t3\n",
      "2\tC\t0\n",
      "3\tD\t1\n",
      "4\tD\t5\n",
      "5\tC\t2\n",
      "6\tA\t4\n",
      "7\tB\t5\n",
      "8\tC\t5\n",
      "9\tB\t4\n",
      "10\tB\t3\n",
      "Time taken: 35.823 seconds, Fetched: 10 row(s)\n"
     ]
    }
   ],
   "source": [
    "%%hive\n",
    "SELECT tb0.c1,tb0.c2,(CASE WHEN 'A' = tb0.c2 THEN tb1.c4[\"A\"] ELSE (CASE WHEN 'B' = tb0.c2 THEN tb1.c4[\"B\"] ELSE (CASE WHEN \"C\" = tb0.c2 THEN tb1.c4[\"C\"] ELSE (CASE WHEN \"D\" = tb0.c2 THEN tb1.c4[\"D\"] ELSE (CASE WHEN \"E\" = tb0.c2 THEN tb1.c4[\"D\"] ELSE '' END) END) END) END) END) FROM tbl0 tb0 JOIN tbl1 tb1 ON (tb0.c1 = tb1.c1);"
   ]
  },
  {
   "cell_type": "code",
   "execution_count": 90,
   "metadata": {},
   "outputs": [],
   "source": [
    "%hive_quit"
   ]
  }
 ],
 "metadata": {
  "kernelspec": {
   "display_name": "Python 3",
   "language": "python",
   "name": "python3"
  },
  "language_info": {
   "codemirror_mode": {
    "name": "ipython",
    "version": 3
   },
   "file_extension": ".py",
   "mimetype": "text/x-python",
   "name": "python",
   "nbconvert_exporter": "python",
   "pygments_lexer": "ipython3",
   "version": "3.6.8"
  }
 },
 "nbformat": 4,
 "nbformat_minor": 4
}
