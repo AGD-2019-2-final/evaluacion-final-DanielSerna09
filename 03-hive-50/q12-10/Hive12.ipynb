{
 "cells": [
  {
   "cell_type": "code",
   "execution_count": 1,
   "metadata": {},
   "outputs": [],
   "source": [
    "%load_ext bigdata\n",
    "%timeout 300"
   ]
  },
  {
   "cell_type": "code",
   "execution_count": 2,
   "metadata": {},
   "outputs": [],
   "source": [
    "%hive_start"
   ]
  },
  {
   "cell_type": "code",
   "execution_count": 3,
   "metadata": {},
   "outputs": [
    {
     "name": "stdout",
     "output_type": "stream",
     "text": [
      "DROP TABLE IF EXISTS t0;\n",
      "OK\n",
      "Time taken: 17.642 seconds\n",
      "CREATE TABLE t0 (\n",
      "    c1 STRING,\n",
      "    c2 ARRAY<CHAR(1)>, \n",
      "    c3 MAP<STRING, INT>\n",
      "    )\n",
      "    ROW FORMAT DELIMITED \n",
      "        FIELDS TERMINATED BY '\\t'\n",
      "        COLLECTION ITEMS TERMINATED BY ','\n",
      "        MAP KEYS TERMINATED BY '#'\n",
      "        LINES TERMINATED BY '\\n';\n",
      "OK\n",
      "Time taken: 1.592 seconds\n",
      "LOAD DATA LOCAL INPATH 'data.tsv' INTO TABLE t0;\n",
      "Loading data to table default.t0\n",
      "OK\n",
      "Time taken: 2.903 seconds\n"
     ]
    }
   ],
   "source": [
    "%%hive\n",
    "DROP TABLE IF EXISTS t0;\n",
    "CREATE TABLE t0 (\n",
    "    c1 STRING,\n",
    "    c2 ARRAY<CHAR(1)>, \n",
    "    c3 MAP<STRING, INT>\n",
    "    )\n",
    "    ROW FORMAT DELIMITED \n",
    "        FIELDS TERMINATED BY '\\t'\n",
    "        COLLECTION ITEMS TERMINATED BY ','\n",
    "        MAP KEYS TERMINATED BY '#'\n",
    "        LINES TERMINATED BY '\\n';\n",
    "LOAD DATA LOCAL INPATH 'data.tsv' INTO TABLE t0;"
   ]
  },
  {
   "cell_type": "code",
   "execution_count": 4,
   "metadata": {},
   "outputs": [
    {
     "name": "stdout",
     "output_type": "stream",
     "text": [
      "LOAD DATA LOCAL INPATH \"data.tvs\" OVERWRITE INTO TABLE t0;\n",
      "FAILED: SemanticException Line 1:23 Invalid path '\"data.tvs\"': No files matching path file:/datalake/evaluacion-final-DanielSerna09/03-hive-50/q12-10/data.tvs\n",
      "SELECT * FROM t0 LIMIT 25;\n",
      "OK\n",
      "E\t[\"b\",\"g\",\"f\"]\t{\"jjj\":3,\"bbb\":0,\"ddd\":9,\"ggg\":8,\"hhh\":2}\n",
      "A\t[\"a\",\"f\",\"c\"]\t{\"ccc\":2,\"ddd\":0,\"aaa\":3,\"hhh\":9}\n",
      "B\t[\"f\",\"e\",\"a\",\"c\"]\t{\"ddd\":2,\"ggg\":5,\"ccc\":6,\"jjj\":1}\n",
      "A\t[\"a\",\"b\"]\t{\"hhh\":9,\"iii\":5,\"eee\":7,\"bbb\":1}\n",
      "C\t[\"f\",\"g\",\"d\",\"a\"]\t{\"iii\":6,\"ddd\":5,\"eee\":4,\"jjj\":3}\n",
      "A\t[\"c\",\"d\"]\t{\"bbb\":2,\"hhh\":0,\"ccc\":4,\"fff\":1,\"aaa\":7}\n",
      "A\t[\"g\",\"d\",\"a\"]\t{\"aaa\":5,\"fff\":8,\"ddd\":2,\"iii\":0,\"jjj\":7,\"ccc\":1}\n",
      "B\t[\"b\",\"a\"]\t{\"fff\":3,\"hhh\":1,\"ddd\":2}\n",
      "E\t[\"d\",\"e\",\"a\",\"f\"]\t{\"eee\":4,\"ccc\":5,\"iii\":9,\"fff\":7,\"ggg\":6,\"bbb\":0}\n",
      "B\t[\"d\",\"b\",\"g\",\"f\"]\t{\"bbb\":7,\"jjj\":9,\"fff\":5,\"iii\":4,\"ggg\":2,\"eee\":3}\n",
      "C\t[\"d\",\"c\",\"f\",\"b\"]\t{\"hhh\":6,\"eee\":4,\"iii\":0,\"fff\":2,\"jjj\":1}\n",
      "C\t[\"d\",\"e\",\"a\",\"c\"]\t{\"bbb\":7,\"iii\":6,\"ggg\":9}\n",
      "D\t[\"g\",\"e\",\"f\",\"b\"]\t{\"bbb\":9,\"aaa\":3,\"ccc\":6,\"fff\":4,\"eee\":2}\n",
      "E\t[\"c\",\"f\"]\t{\"aaa\":8,\"ddd\":5,\"jjj\":1}\n",
      "B\t[\"d\",\"b\"]\t{\"ccc\":0,\"jjj\":6,\"fff\":7,\"ddd\":3,\"aaa\":2}\n",
      "D\t[\"f\",\"e\"]\t{\"ccc\":0,\"eee\":6,\"bbb\":9,\"ddd\":3}\n",
      "E\t[\"e\",\"b\",\"f\"]\t{\"bbb\":6,\"iii\":3,\"hhh\":5,\"fff\":4,\"ggg\":9,\"ddd\":2}\n",
      "D\t[\"g\",\"a\"]\t{\"hhh\":4,\"jjj\":5,\"ccc\":9}\n",
      "E\t[\"e\",\"c\",\"f\",\"a\"]\t{\"ccc\":1,\"iii\":6,\"fff\":9}\n",
      "E\t[\"e\",\"a\"]\t{\"bbb\":9,\"aaa\":3,\"fff\":1}\n",
      "E\t[\"e\",\"f\"]\t{\"ddd\":9,\"iii\":2,\"aaa\":4}\n",
      "E\t[\"c\",\"b\",\"g\"]\t{\"ccc\":5,\"fff\":8,\"iii\":7}\n",
      "D\t[\"c\",\"f\",\"a\"]\t{\"eee\":3,\"jjj\":2,\"ddd\":7}\n",
      "A\t[\"f\",\"a\",\"d\"]\t{\"jjj\":1,\"ggg\":0,\"ccc\":7,\"ddd\":9,\"bbb\":3}\n",
      "E\t[\"c\",\"d\"]\t{\"jjj\":6,\"ccc\":0,\"aaa\":1,\"hhh\":9,\"iii\":7,\"ggg\":8}\n",
      "Time taken: 2.995 seconds, Fetched: 25 row(s)\n"
     ]
    }
   ],
   "source": [
    "%%hive\n",
    "LOAD DATA LOCAL INPATH \"data.tvs\" OVERWRITE INTO TABLE t0;\n",
    "SELECT * FROM t0 LIMIT 25;"
   ]
  },
  {
   "cell_type": "code",
   "execution_count": 12,
   "metadata": {},
   "outputs": [
    {
     "name": "stdout",
     "output_type": "stream",
     "text": [
      "SELECT letra, key AS GrupLetra, \n",
      "count(1), \n",
      ") t0 GROUP BY letra, key;W EXPLODE(c2) t0 as letra LATERAL VIEW EXPLODE(c3 \n",
      "WARNING: Hive-on-MR is deprecated in Hive 2 and may not be available in the future versions. Consider using a different execution engine (i.e. spark, tez) or using Hive 1.X releases.\n",
      "Query ID = root_20200209010848_8224375e-b4a8-4c67-b507-de6c8f1ef0b1\n",
      "Total jobs = 1\n",
      "Launching Job 1 out of 1\n",
      "Number of reduce tasks not specified. Estimated from input data size: 1\n",
      "In order to change the average load for a reducer (in bytes):\n",
      "  set hive.exec.reducers.bytes.per.reducer=<number>\n",
      "In order to limit the maximum number of reducers:\n",
      "  set hive.exec.reducers.max=<number>\n",
      "In order to set a constant number of reducers:\n",
      "  set mapreduce.job.reduces=<number>\n",
      "Starting Job = job_1581207947178_0006, Tracking URL = http://911d4781de62:8088/proxy/application_1581207947178_0006/\n",
      "Kill Command = /usr/local/hadoop/bin/hadoop job  -kill job_1581207947178_0006\n",
      "Hadoop job information for Stage-1: number of mappers: 1; number of reducers: 1\n",
      "2020-02-09 01:08:59,237 Stage-1 map = 0%,  reduce = 0%\n",
      "2020-02-09 01:09:05,936 Stage-1 map = 100%,  reduce = 0%, Cumulative CPU 2.44 sec\n",
      "2020-02-09 01:09:12,559 Stage-1 map = 100%,  reduce = 100%, Cumulative CPU 5.49 sec\n",
      "MapReduce Total cumulative CPU time: 5 seconds 490 msec\n",
      "Ended Job = job_1581207947178_0006\n",
      "MapReduce Jobs Launched: \n",
      "Stage-Stage-1: Map: 1  Reduce: 1   Cumulative CPU: 5.49 sec   HDFS Read: 15260 HDFS Write: 1640 SUCCESS\n",
      "Total MapReduce CPU Time Spent: 5 seconds 490 msec\n",
      "OK\n",
      "a\taaa\t5\ta\n",
      "a\tbbb\t7\ta\n",
      "a\tccc\t13\ta\n",
      "a\tddd\t13\ta\n",
      "a\teee\t7\ta\n",
      "a\tfff\t10\ta\n",
      "a\tggg\t8\ta\n",
      "a\thhh\t8\ta\n",
      "a\tiii\t7\ta\n",
      "a\tjjj\t10\ta\n",
      "b\taaa\t4\tb\n",
      "b\tbbb\t7\tb\n",
      "b\tccc\t5\tb\n",
      "b\tddd\t7\tb\n",
      "b\teee\t5\tb\n",
      "b\tfff\t8\tb\n",
      "b\tggg\t4\tb\n",
      "b\thhh\t7\tb\n",
      "b\tiii\t7\tb\n",
      "b\tjjj\t5\tb\n",
      "c\taaa\t5\tc\n",
      "c\tbbb\t4\tc\n",
      "c\tccc\t12\tc\n",
      "c\tddd\t9\tc\n",
      "c\teee\t6\tc\n",
      "c\tfff\t8\tc\n",
      "c\tggg\t7\tc\n",
      "c\thhh\t7\tc\n",
      "c\tiii\t8\tc\n",
      "c\tjjj\t8\tc\n",
      "d\taaa\t4\td\n",
      "d\tbbb\t6\td\n",
      "d\tccc\t7\td\n",
      "d\tddd\t5\td\n",
      "d\teee\t6\td\n",
      "d\tfff\t8\td\n",
      "d\tggg\t6\td\n",
      "d\thhh\t4\td\n",
      "d\tiii\t9\td\n",
      "d\tjjj\t8\td\n",
      "e\taaa\t3\te\n",
      "e\tbbb\t8\te\n",
      "e\tccc\t9\te\n",
      "e\tddd\t7\te\n",
      "e\teee\t7\te\n",
      "e\tfff\t9\te\n",
      "e\tggg\t4\te\n",
      "e\thhh\t4\te\n",
      "e\tiii\t8\te\n",
      "e\tjjj\t3\te\n",
      "f\taaa\t8\tf\n",
      "f\tbbb\t10\tf\n",
      "f\tccc\t13\tf\n",
      "f\tddd\t17\tf\n",
      "f\teee\t11\tf\n",
      "f\tfff\t11\tf\n",
      "f\tggg\t9\tf\n",
      "f\thhh\t10\tf\n",
      "f\tiii\t10\tf\n",
      "f\tjjj\t12\tf\n",
      "g\taaa\t3\tg\n",
      "g\tbbb\t3\tg\n",
      "g\tccc\t6\tg\n",
      "g\tddd\t5\tg\n",
      "g\teee\t4\tg\n",
      "g\tfff\t5\tg\n",
      "g\tggg\t4\tg\n",
      "g\thhh\t3\tg\n",
      "g\tiii\t4\tg\n",
      "g\tjjj\t6\tg\n",
      "Time taken: 26.195 seconds, Fetched: 70 row(s)\n"
     ]
    }
   ],
   "source": [
    "%%hive\n",
    "SELECT letra, key AS GrupLetra, \n",
    "count(1), \n",
    "letra FROM t0 LATERAL VIEW EXPLODE(c2) t0 as letra LATERAL VIEW EXPLODE(c3) t0 GROUP BY letra, key;"
   ]
  },
  {
   "cell_type": "code",
   "execution_count": 18,
   "metadata": {},
   "outputs": [
    {
     "name": "stdout",
     "output_type": "stream",
     "text": [
      "INSERT OVERWRITE DIRECTORY '/tmp/t0/GrupLetra'\n",
      "ROW FORMAT DELIMITED FIELDS TERMINATED BY ','\n",
      "SELECT\n",
      "    *\n",
      "FROM\n",
      "    t0;\n",
      "WARNING: Hive-on-MR is deprecated in Hive 2 and may not be available in the future versions. Consider using a different execution engine (i.e. spark, tez) or using Hive 1.X releases.\n",
      "Query ID = root_20200209012829_863a74e1-1d22-449f-a7a7-02acec504a41\n",
      "Total jobs = 3\n",
      "Launching Job 1 out of 3\n",
      "Number of reduce tasks is set to 0 since there's no reduce operator\n",
      "Starting Job = job_1581207947178_0008, Tracking URL = http://911d4781de62:8088/proxy/application_1581207947178_0008/\n",
      "Kill Command = /usr/local/hadoop/bin/hadoop job  -kill job_1581207947178_0008\n",
      "Hadoop job information for Stage-1: number of mappers: 1; number of reducers: 0\n",
      "2020-02-09 01:28:39,976 Stage-1 map = 0%,  reduce = 0%\n",
      "2020-02-09 01:28:46,613 Stage-1 map = 100%,  reduce = 0%, Cumulative CPU 2.02 sec\n",
      "MapReduce Total cumulative CPU time: 2 seconds 20 msec\n",
      "Ended Job = job_1581207947178_0008\n",
      "Stage-3 is selected by condition resolver.\n",
      "Stage-2 is filtered out by condition resolver.\n",
      "Stage-4 is filtered out by condition resolver.\n",
      "Moving data to directory hdfs://0.0.0.0:9000/tmp/t0/GrupLetra/.hive-staging_hive_2020-02-09_01-28-29_848_7293901705636845433-1/-ext-10000\n",
      "Moving data to directory /tmp/t0/GrupLetra\n",
      "MapReduce Jobs Launched: \n",
      "Stage-Stage-1: Map: 1   Cumulative CPU: 2.02 sec   HDFS Read: 5356 HDFS Write: 1356 SUCCESS\n",
      "Total MapReduce CPU Time Spent: 2 seconds 20 msec\n",
      "OK\n",
      "Time taken: 17.906 seconds\n"
     ]
    }
   ],
   "source": [
    "%%hive\n",
    "INSERT OVERWRITE DIRECTORY '/tmp/t0/GrupLetra'\n",
    "ROW FORMAT DELIMITED FIELDS TERMINATED BY ','\n",
    "SELECT\n",
    "    *\n",
    "FROM\n",
    "    t0;"
   ]
  },
  {
   "cell_type": "code",
   "execution_count": 19,
   "metadata": {},
   "outputs": [
    {
     "name": "stdout",
     "output_type": "stream",
     "text": [
      "Found 1 items\n",
      "-rwxrwxrwx   1 root supergroup       1356 2020-02-09 01:28 /tmp/t0/GrupLetra/000000_0\n"
     ]
    }
   ],
   "source": [
    "!hdfs dfs -ls /tmp/t0/GrupLetra"
   ]
  },
  {
   "cell_type": "code",
   "execution_count": 20,
   "metadata": {},
   "outputs": [
    {
     "name": "stdout",
     "output_type": "stream",
     "text": [
      "7\u0002jjj\u00039\u0002fff\u00035\u0002iii\u00034\u0002ggg\u00032\u0002eee\u00033\n",
      "C,d\u0002c\u0002f\u0002b,hhh\u00036\u0002eee\u00034\u0002iii\u00030\u0002fff\u00032\u0002jjj\u00031\n",
      "C,d\u0002e\u0002a\u0002c,bbb\u00037\u0002iii\u00036\u0002ggg\u00039\n",
      "D,g\u0002e\u0002f\u0002b,bbb\u00039\u0002aaa\u00033\u0002ccc\u00036\u0002fff\u00034\u0002eee\u00032\n",
      "E,c\u0002f,aaa\u00038\u0002ddd\u00035\u0002jjj\u00031\n",
      "B,d\u0002b,ccc\u00030\u0002jjj\u00036\u0002fff\u00037\u0002ddd\u00033\u0002aaa\u00032\n",
      "D,f\u0002e,ccc\u00030\u0002eee\u00036\u0002bbb\u00039\u0002ddd\u00033\n",
      "E,e\u0002b\u0002f,bbb\u00036\u0002iii\u00033\u0002hhh\u00035\u0002fff\u00034\u0002ggg\u00039\u0002ddd\u00032\n",
      "D,g\u0002a,hhh\u00034\u0002jjj\u00035\u0002ccc\u00039\n",
      "E,e\u0002c\u0002f\u0002a,ccc\u00031\u0002iii\u00036\u0002fff\u00039\n",
      "E,e\u0002a,bbb\u00039\u0002aaa\u00033\u0002fff\u00031\n",
      "E,e\u0002f,ddd\u00039\u0002iii\u00032\u0002aaa\u00034\n",
      "E,c\u0002b\u0002g,ccc\u00035\u0002fff\u00038\u0002iii\u00037\n",
      "D,c\u0002f\u0002a,eee\u00033\u0002jjj\u00032\u0002ddd\u00037\n",
      "A,f\u0002a\u0002d,jjj\u00031\u0002ggg\u00030\u0002ccc\u00037\u0002ddd\u00039\u0002bbb\u00033\n",
      "E,c\u0002d,jjj\u00036\u0002ccc\u00030\u0002aaa\u00031\u0002hhh\u00039\u0002iii\u00037\u0002ggg\u00038\n",
      "E,e\u0002d\u0002c,fff\u00033\u0002eee\u00036\u0002iii\u00034\u0002bbb\u00037\u0002ddd\u00030\u0002ccc\u00031\n",
      "A,a\u0002e\u0002f,fff\u00030\u0002ddd\u00035\u0002ccc\u00034\n",
      "E,c\u0002a\u0002g,ggg\u00036\u0002hhh\u00033\u0002ddd\u00039\u0002ccc\u00030\u0002jjj\u00037\n",
      "A,f\u0002e,hhh\u00036\u0002jjj\u00030\u0002eee\u00035\u0002iii\u00037\u0002ccc\u00033\n",
      "C,f\u0002c\u0002a\u0002g,eee\u00031\u0002fff\u00034\u0002aaa\u00032\u0002ccc\u00037\u0002ggg\u00030\u0002ddd\u00036\n",
      "A,b\u0002f,ccc\u00036\u0002aaa\u00039\u0002eee\u00035\u0002ddd\u00030\u0002bbb\u00033\n",
      "D,b\u0002f,bbb\u00037\u0002hhh\u00031\u0002aaa\u00036\u0002iii\u00034\u0002fff\u00039\u0002ddd\u00035\n",
      "E,a\u0002c,fff\u00033\u0002ccc\u00031\u0002ggg\u00032\u0002eee\u00035\n",
      "B,b\u0002f\u0002c,iii\u00037\u0002ggg\u00033\u0002ddd\u00030\u0002jjj\u00038\u0002hhh\u00035\u0002ccc\u00031\n",
      "B,f\u0002a\u0002e,hhh\u00036\u0002ccc\u00033\u0002jjj\u00030\u0002bbb\u00038\u0002ddd\u00037\n",
      "D,a\u0002f,aaa\u00030\u0002fff\u00035\u0002ddd\u00033\n",
      "B,c\u0002a,ddd\u00035\u0002jjj\u00032\u0002iii\u00037\u0002ccc\u00030\u0002bbb\u00034\n",
      "C,c\u0002a\u0002e\u0002f,eee\u00030\u0002fff\u00032\u0002hhh\u00036\n",
      "E,e\u0002d,fff\u00039\u0002iii\u00032\u0002eee\u00030\n",
      "E,f\u0002a\u0002d,hhh\u00038\u0002ggg\u00033\u0002jjj\u00035\n"
     ]
    }
   ],
   "source": [
    "!hdfs dfs -tail /tmp/t0/GrupLetra/000000_0"
   ]
  }
 ],
 "metadata": {
  "kernelspec": {
   "display_name": "Python 3",
   "language": "python",
   "name": "python3"
  },
  "language_info": {
   "codemirror_mode": {
    "name": "ipython",
    "version": 3
   },
   "file_extension": ".py",
   "mimetype": "text/x-python",
   "name": "python",
   "nbconvert_exporter": "python",
   "pygments_lexer": "ipython3",
   "version": "3.6.8"
  }
 },
 "nbformat": 4,
 "nbformat_minor": 4
}
